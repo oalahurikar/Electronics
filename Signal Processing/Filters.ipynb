{
 "cells": [
  {
   "cell_type": "markdown",
   "metadata": {},
   "source": [
    "## Function variables of FIR Filters\n",
    "- sig: Signal want to filter\n",
    "- Order: Order of filter\n",
    "- Fct_Hz: Cut off frequency\n",
    "- dT_sec: Invers of sampling frequency"
   ]
  },
  {
   "cell_type": "markdown",
   "metadata": {},
   "source": [
    "* \"filtfilt\" is zero-phase filtering, which doesn't shift the signal as it filters. Since the phase is zero at all frequencies, it is also linear-phase. Filtering backwards in time requires you to predict the future, so it can't be used in \"online\" real-life applications, only for offline processing of recordings of signals.\n",
    "\n",
    "* \"lfilter\" is causal forward-in-time filtering only, similar to a real-life electronic filter. It can't be zero-phase. It can be linear-phase (symmetrical FIR), but usually isn't. Usually it adds different amounts of delay at different frequencies."
   ]
  },
  {
   "cell_type": "code",
   "execution_count": 2,
   "metadata": {},
   "outputs": [],
   "source": [
    "import scipy.signal as signal\n",
    "from scipy import interpolate\n",
    "\n",
    "\"\"\" Filter\"\"\"\n",
    "#Define function call for common butterworth and bessel FIR filters (both low and high pass)\n",
    "\"\"\"To backwards/forwards filtering use 'filtfilt' by replacing 'lfilter'\"\"\"\n",
    "def butter_low_pass(sig, Order, dT_sec, Fct_Hz):\n",
    "    Wn = Fct_Hz*dT_sec*2\n",
    "    b, a = signal.butter(Order, Wn, btype = 'lowpass')\n",
    "    return signal.lfilter(b, a, sig)\n",
    "\n",
    "def butter_high_pass(sig, Order, dT_sec, Fct_Hz):\n",
    "    Wn = Fct_Hz*dT_sec*2\n",
    "    b, a = signal.butter(Order, Wn, btype = 'highpass')\n",
    "    return signal.lfilter(b, a, sig)\n",
    "\n",
    "def bessel_low_pass(sig, Order, dT_sec, Fct_Hz):\n",
    "    Wn = Fct_Hz*dT_sec*2\n",
    "    b, a = signal.bessel(Order, Wn, btype = 'lowpass')    \n",
    "    return signal.lfilter(b,a,sig)\n",
    "    \n",
    "def bessel_high_pass(sig, Order, dT_sec, Fct_Hz):\n",
    "    Wn = Fct_Hz*dT_sec*2\n",
    "    b, a = signal.bessel(Order, Wn, btype = 'highpass')  \n",
    "    return signal.lfilter(b,a,sig)\n",
    "\n",
    "def bessel_band_pass(sig, Order, dT_sec, Fct_Hz):\n",
    "    Wn = Fct_Hz*dT_sec*2\n",
    "    b, a = signal.bessel(Order, Wn, btype = 'bandpass')\n",
    "    return signal.filtfilt(b, a, sig)\n",
    "\n",
    "def bessel_band_stop(sig, Order, dT_sec, Fct_Hz):\n",
    "    Wn = Fct_Hz*dT_sec*2\n",
    "    b, a = signal.bessel(Order, Wn, btype = 'bandstop')\n",
    "    return signal.filtfilt(b, a, sig)"
   ]
  },
  {
   "cell_type": "code",
   "execution_count": null,
   "metadata": {},
   "outputs": [],
   "source": []
  }
 ],
 "metadata": {
  "kernelspec": {
   "display_name": "Python 3",
   "language": "python",
   "name": "python3"
  },
  "language_info": {
   "codemirror_mode": {
    "name": "ipython",
    "version": 3
   },
   "file_extension": ".py",
   "mimetype": "text/x-python",
   "name": "python",
   "nbconvert_exporter": "python",
   "pygments_lexer": "ipython3",
   "version": "3.7.3"
  }
 },
 "nbformat": 4,
 "nbformat_minor": 2
}
